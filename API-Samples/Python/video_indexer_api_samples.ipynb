{
 "cells": [
  {
   "cell_type": "markdown",
   "metadata": {},
   "source": [
    "### Video Indexer API Samples (Python)"
   ]
  },
  {
   "cell_type": "markdown",
   "metadata": {},
   "source": [
    "This notebook provides samples for the following operations in Video Indexer:   \n",
    "\n",
    "(1) Get account details.   \n",
    "(2) Upload a video from URL.   \n",
    "(2A) Upload a video from local file.   \n",
    "(3) Wait for the video to finish indexing.   \n",
    "(4) Search for video and get insights.\n",
    "(5) Use the Widgets API.   \n",
    "   \n",
    "Make sure you're logged-in with `az` to authenticate your account.   \n",
    "   \n",
    "Copy the `.env.example` file to a new file named `.env`, and update the values with your own account settings."
   ]
  },
  {
   "cell_type": "code",
   "execution_count": 1,
   "metadata": {},
   "outputs": [],
   "source": [
    "# imports\n",
    "from dotenv import dotenv_values\n",
    "from pprint import pprint\n",
    "\n",
    "from VideoIndexerClient.Consts import Consts\n",
    "from VideoIndexerClient.VideoIndexerClient import VideoIndexerClient"
   ]
  },
  {
   "cell_type": "markdown",
   "metadata": {},
   "source": [
    "Define the following parameters based on your account settings, in case they are different or not defined as environment variables:"
   ]
  },
  {
   "cell_type": "code",
   "execution_count": 3,
   "metadata": {},
   "outputs": [],
   "source": [
    "config = dotenv_values(\".env\")\n",
    "\n",
    "AccountName = config.get('AccountName')\n",
    "ResourceGroup = config.get('ResourceGroup')\n",
    "DeploymentName = config.get('DeploymentName')\n",
    "SubscriptionId = config.get('SubscriptionId')\n",
    "\n",
    "ApiVersion = '2024-01-01'\n",
    "ApiEndpoint = 'https://api.videoindexer.ai'\n",
    "AzureResourceManager = 'https://management.azure.com'\n",
    "\n",
    "# create and validate consts\n",
    "consts = Consts(ApiVersion, ApiEndpoint, AzureResourceManager, AccountName, ResourceGroup, DeploymentName, SubscriptionId)"
   ]
  },
  {
   "cell_type": "code",
   "execution_count": 4,
   "metadata": {},
   "outputs": [],
   "source": [
    "# Authenticate\n",
    "\n",
    "# create Video Indexer Client\n",
    "client = VideoIndexerClient()\n",
    "# Get access tokens (arm and Video Indexer account)\n",
    "client.authenticate_async(consts)"
   ]
  },
  {
   "cell_type": "markdown",
   "metadata": {},
   "source": [
    "#### Sample 1 - Get Account Basic Details\n",
    "Get account details, not required in most cases."
   ]
  },
  {
   "cell_type": "code",
   "execution_count": 5,
   "metadata": {},
   "outputs": [
    {
     "name": "stdout",
     "output_type": "stream",
     "text": [
      "[Account Details] Id:90ebb508-87a1-4401-9d80-2a092d56321c, Location: eastus\n"
     ]
    }
   ],
   "source": [
    "client.get_account_async()"
   ]
  },
  {
   "cell_type": "markdown",
   "metadata": {},
   "source": [
    "#### Sample 2 - Index a Video from URL\n",
    "Upload a video from URL, do not wait for the index operation to complete.   \n",
    "Define `videoUrl` and `ExcludedAI` first.   \n",
    "`ExcludedAI` - A list of the AIs you would like to exclude in the format `['Faces', 'Labels', 'Emotions','ObservedPeople']`. Leave empty if you do not want to exclude any AIs. For more details see [here](https://api-portal.videoindexer.ai/api-details#api=Operations&operation=Upload-Video:~:text=AI%20to%20exclude%20when%20indexing%2C%20for%20example%20for%20sensitive%20scenarios.%20Options%20are%3A%20Face/Observed%20peopleEmotions/Labels%7D)."
   ]
  },
  {
   "cell_type": "code",
   "execution_count": null,
   "metadata": {},
   "outputs": [],
   "source": [
    "#VideoUrl = 'YOUR_VIDEO_URL'\n",
    "#ExcludedAI = []\n",
    "#\n",
    "# video_id = client.upload_url_async('my-video-name', VideoUrl, ExcludedAI, False)\n",
    "\n",
    "VideoUrl = 'https://videodatastore.blob.core.windows.net/videostore'\n",
    "ExcludedAI = []\n",
    "#\n",
    "video_id = client.upload_url_async('DistractedTruckDriver2.mp4', VideoUrl, ExcludedAI, False)\n"
   ]
  },
  {
   "cell_type": "markdown",
   "metadata": {},
   "source": [
    "#### Sample 2A - Index a Video From File\n",
    "Upload From Local File.   \n",
    "Define `LocalVideoPath` first."
   ]
  },
  {
   "cell_type": "code",
   "execution_count": null,
   "metadata": {},
   "outputs": [],
   "source": [
    "LocalVideoPath = 'YOUR_LOCAL_VIDEO_FILE_PATH'\n",
    "\n",
    "file_video_id = client.file_upload_async(LocalVideoPath, video_name=None, excluded_ai=ExcludedAI)"
   ]
  },
  {
   "cell_type": "markdown",
   "metadata": {},
   "source": [
    "#### Sample 3 - Polling on Video Completion Event\n",
    "Wait for the video index to finish (Polling method)."
   ]
  },
  {
   "cell_type": "code",
   "execution_count": 6,
   "metadata": {},
   "outputs": [
    {
     "name": "stdout",
     "output_type": "stream",
     "text": [
      "Checking if video cn6b1e751z has finished indexing...\n",
      "The video index has completed. Here is the full JSON of the index for video ID cn6b1e751z: \n",
      "{'partition': None, 'description': None, 'privacyMode': 'Private', 'state': 'Processed', 'accountId': '90ebb508-87a1-4401-9d80-2a092d56321c', 'id': 'cn6b1e751z', 'name': 'DistractedTruckDriver2', 'userName': 'MOD Administrator', 'created': '2024-11-14T16:34:20.6066667+00:00', 'isOwned': True, 'isEditable': True, 'isBase': True, 'durationInSeconds': 58, 'duration': '0:00:58.776', 'summarizedInsights': {'name': 'DistractedTruckDriver2', 'id': 'cn6b1e751z', 'privacyMode': 'Private', 'duration': {'time': '0:00:58.776', 'seconds': 58.8}, 'thumbnailVideoId': 'cn6b1e751z', 'thumbnailId': 'c01d3620-286e-49b9-8255-10411098639e', 'faces': [], 'keywords': [], 'sentiments': [], 'emotions': [], 'audioEffects': [{'audioEffectKey': 'Silence', 'seenDurationRatio': 0.9783, 'seenDuration': 57.5, 'appearances': [{'confidence': 1, 'startTime': '0:00:00', 'endTime': '0:00:57.5', 'startSeconds': 0, 'endSeconds': 57.5}]}], 'labels': [], 'framePatterns': [], 'brands': [], 'namedLocations': [], 'namedPeople': [], 'statistics': {'correspondenceCount': 0, 'speakerTalkToListenRatio': {}, 'speakerLongestMonolog': {}, 'speakerNumberOfFragments': {}, 'speakerWordCount': {}}, 'topics': []}, 'videos': [{'accountId': '90ebb508-87a1-4401-9d80-2a092d56321c', 'id': 'cn6b1e751z', 'state': 'Processed', 'moderationState': 'OK', 'reviewState': 'None', 'privacyMode': 'Private', 'processingProgress': '100%', 'failureMessage': '', 'externalId': None, 'externalUrl': None, 'metadata': 'lanes, sun', 'insights': {'version': '1.0.0.0', 'duration': '0:00:58.776', 'sourceLanguage': 'en-US', 'sourceLanguages': ['en-US'], 'language': 'en-US', 'languages': ['en-US'], 'ocr': [{'id': 1, 'text': '017/10/24 12:35:00', 'confidence': 0.994, 'left': 211, 'top': 79, 'width': 437, 'height': 46, 'angle': 0, 'language': 'en-US', 'instances': [{'adjustedStart': '0:00:00', 'adjustedEnd': '0:00:06.0333333', 'start': '0:00:00', 'end': '0:00:06.0333333'}]}, {'id': 2, 'text': '2017/10/24 12:35:00', 'confidence': 0.961, 'left': 1395, 'top': 84, 'width': 456, 'height': 45, 'angle': 0, 'language': 'en-US', 'instances': [{'adjustedStart': '0:00:00', 'adjustedEnd': '0:00:06.0333333', 'start': '0:00:00', 'end': '0:00:06.0333333'}]}, {'id': 3, 'text': 'Using mobile phone while driving', 'confidence': 0.998, 'left': 446, 'top': 47, 'width': 1370, 'height': 103, 'angle': 0, 'language': 'en-US', 'instances': [{'adjustedStart': '0:00:07', 'adjustedEnd': '0:00:12.0333333', 'start': '0:00:07', 'end': '0:00:12.0333333'}]}, {'id': 4, 'text': '2017/10/24 13:53:48', 'confidence': 0.9955, 'left': 233, 'top': 104, 'width': 456, 'height': 46, 'angle': 0, 'language': 'en-US', 'instances': [{'adjustedStart': '0:00:43', 'adjustedEnd': '0:00:50.0333333', 'start': '0:00:43', 'end': '0:00:50.0333333'}]}], 'scenes': [{'id': 1, 'instances': [{'adjustedStart': '0:00:00', 'adjustedEnd': '0:00:58.7333333', 'start': '0:00:00', 'end': '0:00:58.7333333'}]}], 'shots': [{'id': 1, 'keyFrames': [{'id': 1, 'instances': [{'thumbnailId': '1b659200-6711-4e71-846c-af964726a4cb', 'adjustedStart': '0:00:05.6666667', 'adjustedEnd': '0:00:05.7', 'start': '0:00:05.6666667', 'end': '0:00:05.7'}]}, {'id': 2, 'instances': [{'thumbnailId': 'b9febbd1-86c3-4182-bb53-613e97e60689', 'adjustedStart': '0:00:29.1', 'adjustedEnd': '0:00:29.1333333', 'start': '0:00:29.1', 'end': '0:00:29.1333333'}]}], 'instances': [{'adjustedStart': '0:00:00', 'adjustedEnd': '0:00:58.7333333', 'start': '0:00:00', 'end': '0:00:58.7333333'}]}], 'audioEffects': [{'id': 0, 'type': 'Silence', 'instances': [{'confidence': 1, 'adjustedStart': '0:00:00', 'adjustedEnd': '0:00:57.5', 'start': '0:00:00', 'end': '0:00:57.5'}]}], 'detectedObjects': [{'id': 1, 'type': 'Car', 'thumbnailId': '5d49da3a-b242-46f8-a0d9-916ff68179c2', 'displayName': 'car', 'wikiDataId': 'Q1420', 'instances': [{'confidence': 0.226, 'adjustedStart': '0:00:00', 'adjustedEnd': '0:00:06.033333', 'start': '0:00:00', 'end': '0:00:06.033333'}]}, {'id': 2, 'type': 'Car', 'thumbnailId': '1f00e03e-bc08-491e-ae72-cd4d045bfe23', 'displayName': 'car', 'wikiDataId': 'Q1420', 'instances': [{'confidence': 0.599, 'adjustedStart': '0:00:00', 'adjustedEnd': '0:00:04.033333', 'start': '0:00:00', 'end': '0:00:04.033333'}]}, {'id': 3, 'type': 'Car', 'thumbnailId': '64745d35-4c8f-418c-96d5-b84f65260759', 'displayName': 'car', 'wikiDataId': 'Q1420', 'instances': [{'confidence': 0.278, 'adjustedStart': '0:00:00.166667', 'adjustedEnd': '0:00:05.533333', 'start': '0:00:00.166667', 'end': '0:00:05.533333'}]}, {'id': 4, 'type': 'Car', 'thumbnailId': 'b9e0c0df-2469-4940-b44a-abb671e5aef4', 'displayName': 'car', 'wikiDataId': 'Q1420', 'instances': [{'confidence': 0.842, 'adjustedStart': '0:00:04.166667', 'adjustedEnd': '0:00:05.533333', 'start': '0:00:04.166667', 'end': '0:00:05.533333'}]}, {'id': 5, 'type': 'Chair', 'thumbnailId': '55ac8947-285c-4850-ac3f-6e386c1026f3', 'displayName': 'chair', 'wikiDataId': 'Q15026', 'instances': [{'confidence': 0.42, 'adjustedStart': '0:00:15.8', 'adjustedEnd': '0:00:17.166667', 'start': '0:00:15.8', 'end': '0:00:17.166667'}]}, {'id': 6, 'type': 'Car', 'thumbnailId': 'a1ef7b3d-4301-4237-9e23-5206914c1c1c', 'displayName': 'car', 'wikiDataId': 'Q1420', 'instances': [{'confidence': 0.377, 'adjustedStart': '0:00:17.633333', 'adjustedEnd': '0:00:28.166667', 'start': '0:00:17.633333', 'end': '0:00:28.166667'}]}, {'id': 7, 'type': 'Car', 'thumbnailId': '1df41b52-674e-47b4-a11b-bfe87e60f99b', 'displayName': 'car', 'wikiDataId': 'Q1420', 'instances': [{'confidence': 0.167, 'adjustedStart': '0:00:24.633333', 'adjustedEnd': '0:00:26', 'start': '0:00:24.633333', 'end': '0:00:26'}, {'confidence': 0.554, 'adjustedStart': '0:00:47.966667', 'adjustedEnd': '0:00:48.666667', 'start': '0:00:47.966667', 'end': '0:00:48.666667'}]}, {'id': 8, 'type': 'Car', 'thumbnailId': '260be100-5fa4-44a8-9449-ea099f38b8ac', 'displayName': 'car', 'wikiDataId': 'Q1420', 'instances': [{'confidence': 0.716, 'adjustedStart': '0:00:28.8', 'adjustedEnd': '0:00:29.166667', 'start': '0:00:28.8', 'end': '0:00:29.166667'}, {'confidence': 0.294, 'adjustedStart': '0:00:29.966667', 'adjustedEnd': '0:00:31.166667', 'start': '0:00:29.966667', 'end': '0:00:31.166667'}, {'confidence': 0.19, 'adjustedStart': '0:00:31.633333', 'adjustedEnd': '0:00:38.833333', 'start': '0:00:31.633333', 'end': '0:00:38.833333'}]}, {'id': 9, 'type': 'Car', 'thumbnailId': '466e4cf2-9912-44e6-81cb-97ae640eb9e9', 'displayName': 'car', 'wikiDataId': 'Q1420', 'instances': [{'confidence': 0.154, 'adjustedStart': '0:00:30.633333', 'adjustedEnd': '0:00:37.166667', 'start': '0:00:30.633333', 'end': '0:00:37.166667'}, {'confidence': 0.278, 'adjustedStart': '0:00:39.3', 'adjustedEnd': '0:00:39.833333', 'start': '0:00:39.3', 'end': '0:00:39.833333'}, {'confidence': 0.372, 'adjustedStart': '0:00:45.466667', 'adjustedEnd': '0:00:46', 'start': '0:00:45.466667', 'end': '0:00:46'}]}, {'id': 10, 'type': 'Car', 'thumbnailId': '94da15ce-beaa-4d44-b40d-eba5089ef5c0', 'displayName': 'car', 'wikiDataId': 'Q1420', 'instances': [{'confidence': 0.294, 'adjustedStart': '0:00:31.966667', 'adjustedEnd': '0:00:33.333333', 'start': '0:00:31.966667', 'end': '0:00:33.333333'}]}, {'id': 11, 'type': 'Car', 'thumbnailId': '962bd18c-1971-41b2-b49f-6c927eee9ea1', 'displayName': 'car', 'wikiDataId': 'Q1420', 'instances': [{'confidence': 0.417, 'adjustedStart': '0:00:33.3', 'adjustedEnd': '0:00:36.166667', 'start': '0:00:33.3', 'end': '0:00:36.166667'}, {'confidence': 0.204, 'adjustedStart': '0:00:43.3', 'adjustedEnd': '0:00:48.5', 'start': '0:00:43.3', 'end': '0:00:48.5'}]}, {'id': 12, 'type': 'Car', 'thumbnailId': '2de11e96-1677-41a6-926c-efd7e9bc4098', 'displayName': 'car', 'wikiDataId': 'Q1420', 'instances': [{'confidence': 0.748, 'adjustedStart': '0:00:34.966667', 'adjustedEnd': '0:00:35.666667', 'start': '0:00:34.966667', 'end': '0:00:35.666667'}, {'confidence': 0.44, 'adjustedStart': '0:00:38.966667', 'adjustedEnd': '0:00:39.166667', 'start': '0:00:38.966667', 'end': '0:00:39.166667'}]}, {'id': 13, 'type': 'Car', 'thumbnailId': '86742256-15a3-4394-a9f9-daa0da3cc901', 'displayName': 'car', 'wikiDataId': 'Q1420', 'instances': [{'confidence': 0.196, 'adjustedStart': '0:00:36.3', 'adjustedEnd': '0:00:39.333333', 'start': '0:00:36.3', 'end': '0:00:39.333333'}, {'confidence': 0.195, 'adjustedStart': '0:00:51.466667', 'adjustedEnd': '0:00:51.666667', 'start': '0:00:51.466667', 'end': '0:00:51.666667'}, {'confidence': 0.162, 'adjustedStart': '0:00:53.3', 'adjustedEnd': '0:00:53.5', 'start': '0:00:53.3', 'end': '0:00:53.5'}]}, {'id': 14, 'type': 'Car', 'thumbnailId': 'f90f1330-d943-4f51-9daf-e037692cc799', 'displayName': 'car', 'wikiDataId': 'Q1420', 'instances': [{'confidence': 0.556, 'adjustedStart': '0:00:45.3', 'adjustedEnd': '0:00:46', 'start': '0:00:45.3', 'end': '0:00:46'}, {'confidence': 0.688, 'adjustedStart': '0:00:57.8', 'adjustedEnd': '0:00:58.5', 'start': '0:00:57.8', 'end': '0:00:58.5'}]}, {'id': 15, 'type': 'Car', 'thumbnailId': '7809920a-df64-4910-9107-97d13432fd8a', 'displayName': 'car', 'wikiDataId': 'Q1420', 'instances': [{'confidence': 0.184, 'adjustedStart': '0:00:46.133333', 'adjustedEnd': '0:00:46.5', 'start': '0:00:46.133333', 'end': '0:00:46.5'}, {'confidence': 0.5, 'adjustedStart': '0:00:58.633333', 'adjustedEnd': '0:00:58.733333', 'start': '0:00:58.633333', 'end': '0:00:58.733333'}]}, {'id': 16, 'type': 'Car', 'thumbnailId': 'ecd0d2ba-fb12-4103-a3d6-4e45250cfb85', 'displayName': 'car', 'wikiDataId': 'Q1420', 'instances': [{'confidence': 0.394, 'adjustedStart': '0:00:48.633333', 'adjustedEnd': '0:00:50.166667', 'start': '0:00:48.633333', 'end': '0:00:50.166667'}, {'confidence': 0.234, 'adjustedStart': '0:00:51.466667', 'adjustedEnd': '0:00:54.666667', 'start': '0:00:51.466667', 'end': '0:00:54.666667'}]}, {'id': 17, 'type': 'Car', 'thumbnailId': 'f836a026-16a6-46d1-b05f-8372fa6bea96', 'displayName': 'car', 'wikiDataId': 'Q1420', 'instances': [{'confidence': 0.555, 'adjustedStart': '0:00:48.8', 'adjustedEnd': '0:00:49.333333', 'start': '0:00:48.8', 'end': '0:00:49.333333'}]}, {'id': 18, 'type': 'Car', 'thumbnailId': 'd0236a04-d2ad-40d1-bbee-341cc52d73e8', 'displayName': 'car', 'wikiDataId': 'Q1420', 'instances': [{'confidence': 0.325, 'adjustedStart': '0:00:53.466667', 'adjustedEnd': '0:00:54.166667', 'start': '0:00:53.466667', 'end': '0:00:54.166667'}]}, {'id': 19, 'type': 'Car', 'thumbnailId': '596e8bb1-a8dc-429e-84ac-9c8895286b79', 'displayName': 'car', 'wikiDataId': 'Q1420', 'instances': [{'confidence': 0.581, 'adjustedStart': '0:00:53.966667', 'adjustedEnd': '0:00:54.333333', 'start': '0:00:53.966667', 'end': '0:00:54.333333'}]}], 'blocks': [{'id': 1, 'instances': [{'adjustedStart': '0:00:00', 'adjustedEnd': '0:00:30', 'start': '0:00:00', 'end': '0:00:30'}]}, {'id': 1, 'instances': [{'adjustedStart': '0:00:30', 'adjustedEnd': '0:00:58.776', 'start': '0:00:30', 'end': '0:00:58.776'}]}], 'textualContentModeration': {'id': 0, 'bannedWordsCount': 0, 'bannedWordsRatio': 0, 'instances': []}, 'statistics': {'correspondenceCount': 0, 'speakerTalkToListenRatio': {}, 'speakerLongestMonolog': {}, 'speakerNumberOfFragments': {}, 'speakerWordCount': {}}}, 'thumbnailId': 'c01d3620-286e-49b9-8255-10411098639e', 'width': 2520, 'height': 1080, 'detectSourceLanguage': False, 'languageAutoDetectMode': 'None', 'sourceLanguage': 'en-US', 'sourceLanguages': ['en-US'], 'language': 'en-US', 'languages': ['en-US'], 'indexingPreset': 'Default', 'streamingPreset': 'SingleBitrate', 'linguisticModelId': '00000000-0000-0000-0000-000000000000', 'personModelId': '00000000-0000-0000-0000-000000000000', 'logoGroupId': None, 'isAdult': False, 'excludedAIs': ['Faces', 'Celebrities', 'KnownPeople', 'ShotType', 'Emotions', 'Labels'], 'isSearchable': True, 'publishedUrl': 'https://api.videoindexer.ai/internals/eastus/Accounts/90ebb508-87a1-4401-9d80-2a092d56321c/Videos/cn6b1e751z/streaming-manifest/manifest.m3u8', 'publishedProxyUrl': None, 'viewToken': 'eyJhbGciOiJSUzI1NiIsInR5cCI6IkpXVCJ9.eyJWZXJzaW9uIjoiMi4wLjAuMCIsIktleVZlcnNpb24iOiIxNGIwZDg4NTU0OTE0YjkwYjBkYjEwM2M0NmRkYTNkNiIsIkFjY291bnRJZCI6IjkwZWJiNTA4LTg3YTEtNDQwMS05ZDgwLTJhMDkyZDU2MzIxYyIsIkFjY291bnRUeXBlIjoiQ2xhc3NpYyIsIlZpZGVvSWQiOiJjbjZiMWU3NTF6IiwiUGVybWlzc2lvbiI6IlJlc3RyaWN0ZWRWaWV3ZXIiLCJFeHRlcm5hbFVzZXJJZCI6IjZGNjdBODFENzM5NDREMzc4NzNBOUUzRjY0NTcwMTU0IiwiVXNlclR5cGUiOiJNaWNyb3NvZnRDb3JwQWFkIiwiSXNzdWVyTG9jYXRpb24iOiJlYXN0dXMiLCJuYmYiOjE3MzY5Nzc0NTgsImV4cCI6MTczNjk4MTM1OCwiaXNzIjoiaHR0cHM6Ly9hcGkudmlkZW9pbmRleGVyLmFpLyIsImF1ZCI6Imh0dHBzOi8vYXBpLnZpZGVvaW5kZXhlci5haS8ifQ.lrTaeqafK6Qh5OEs63h6Iv0xlou7-pk6Q4gg606TM3hl7IiQwxQjDydvNS5jFGCFXCIiDjJC8kiKsDLjOVff5VQzPJajNkx-cb5yCGs7CGkeLIUNPuCE2SEVY5vabW14Ltuh0zh5gZmadLO_i2nOmsp7omoh_shTtPr8pHXE5kTjy_cmKsHOmigMGxaqN9DEjVeinS7smzVZl6nLiX_iWnOYk9xajy-zzxthiwvhA3MwZvTuyxjIFwW7g_Ppfg7Er3TdnrkN9yoB9m7Z4OsORzG3xuzHO_24B05MDl2iFbIDgqp8Niij6NaHDPjrQedzpdWN7Q4LLx8iIDb7lIbylQ'}], 'videosRanges': [{'videoId': 'cn6b1e751z', 'range': {'start': '0:00:00', 'end': '0:00:58.776'}}]}\n"
     ]
    }
   ],
   "source": [
    "\n",
    "file_video_id = 'cn6b1e751z'\n",
    "#'s7js1mcwto'\n",
    "client.wait_for_index_async(file_video_id)"
   ]
  },
  {
   "cell_type": "markdown",
   "metadata": {},
   "source": [
    "#### Sample 4 - Get the Video insights\n",
    "Get the video insights."
   ]
  },
  {
   "cell_type": "code",
   "execution_count": null,
   "metadata": {},
   "outputs": [],
   "source": [
    "insights = client.get_video_async(file_video_id)\n",
    "pprint(insights)"
   ]
  },
  {
   "cell_type": "markdown",
   "metadata": {},
   "source": [
    "#### Sample 5 - Widgets API"
   ]
  },
  {
   "cell_type": "code",
   "execution_count": null,
   "metadata": {},
   "outputs": [],
   "source": [
    "client.get_insights_widgets_url_async(file_video_id, widget_type='Keywords')\n",
    "client.get_player_widget_url_async(file_video_id)"
   ]
  },
  {
   "cell_type": "markdown",
   "metadata": {},
   "source": [
    "#### Sample 6 - Prompt Content API"
   ]
  },
  {
   "cell_type": "code",
   "execution_count": null,
   "metadata": {},
   "outputs": [],
   "source": [
    "\n",
    "prompt_content = client.get_prompt_content(file_video_id)\n",
    "pprint(prompt_content)"
   ]
  },
  {
   "cell_type": "markdown",
   "metadata": {},
   "source": [
    "### <span style=\"color:yellow\">NP Sample 1 - Generate Video Summary (Preview)</span>"
   ]
  },
  {
   "cell_type": "code",
   "execution_count": 7,
   "metadata": {},
   "outputs": [
    {
     "name": "stdout",
     "output_type": "stream",
     "text": [
      "Video Summary Generation for video_id='cn6b1e751z' started...\n",
      "None\n"
     ]
    }
   ],
   "source": [
    "# length: values can be Short, Medium or Long\n",
    "length = 'Long'\n",
    "# style: values can be Neutral, Casual or Formal\n",
    "style = 'Formal'\n",
    "# includedFrames: values can be None or Keyframes   \n",
    "included_frames = 'Keyframes'\n",
    "prompt_content = client.generate_video_summary(file_video_id, length, style, included_frames)\n",
    "pprint(prompt_content)"
   ]
  },
  {
   "cell_type": "markdown",
   "metadata": {},
   "source": [
    "### <span style=\"color:yellow\">NP Sample 2 - List Video Summaries (Preview)</span>"
   ]
  },
  {
   "cell_type": "code",
   "execution_count": 8,
   "metadata": {},
   "outputs": [
    {
     "name": "stdout",
     "output_type": "stream",
     "text": [
      "Getting the player summaries URL for video cn6b1e751z\n",
      "Here are video summary lists: \n",
      "{'size': 16, 'pageNumber': 0, 'items': [{'deploymentName': 'gpt-4', 'disclaimer': None, 'id': 'd4b3cc4a-e58c-4dc2-8c54-417291fb8043', 'accountId': '90ebb508-87a1-4401-9d80-2a092d56321c', 'videoId': 'cn6b1e751z', 'state': 'Processed', 'modelName': 'gpt-4', 'summaryStyle': 'Formal', 'summaryLength': 'Long', 'includedFrames': 'Keyframes', 'createTime': '2025-01-15T21:49:35.61', 'lastUpdateTime': '2025-01-15T21:51:05.28', 'failureMessage': None, 'progress': 100}, {'deploymentName': 'gpt-4', 'disclaimer': None, 'id': '23468b0a-3b94-4e65-9412-80f97d1e09a5', 'accountId': '90ebb508-87a1-4401-9d80-2a092d56321c', 'videoId': 'cn6b1e751z', 'state': 'Processed', 'modelName': 'gpt-4', 'summaryStyle': 'Casual', 'summaryLength': 'Long', 'includedFrames': 'Keyframes', 'createTime': '2025-01-15T21:19:20.95', 'lastUpdateTime': '2025-01-15T21:20:16.33', 'failureMessage': None, 'progress': 100}, {'deploymentName': 'gpt-4', 'disclaimer': None, 'id': '64ba0075-45bd-4fa2-ac94-dd69985b99b9', 'accountId': '90ebb508-87a1-4401-9d80-2a092d56321c', 'videoId': 'cn6b1e751z', 'state': 'Processed', 'modelName': 'gpt-4', 'summaryStyle': 'Formal', 'summaryLength': 'Medium', 'includedFrames': 'Keyframes', 'createTime': '2025-01-10T13:24:37.76', 'lastUpdateTime': '2025-01-10T13:25:43.11', 'failureMessage': None, 'progress': 100}, {'deploymentName': 'gpt-4', 'disclaimer': None, 'id': 'fb6ab5f9-e1aa-4326-9590-5763c01fc3db', 'accountId': '90ebb508-87a1-4401-9d80-2a092d56321c', 'videoId': 'cn6b1e751z', 'state': 'Processed', 'modelName': 'gpt-4', 'summaryStyle': 'Formal', 'summaryLength': 'Long', 'includedFrames': 'Keyframes', 'createTime': '2025-01-06T17:08:57.9333333', 'lastUpdateTime': '2025-01-06T17:10:09.9733333', 'failureMessage': None, 'progress': 100}, {'deploymentName': 'gpt-4', 'disclaimer': None, 'id': '0c2601ba-0b69-414d-a767-f45173b0b569', 'accountId': '90ebb508-87a1-4401-9d80-2a092d56321c', 'videoId': 'cn6b1e751z', 'state': 'Processed', 'modelName': 'gpt-4', 'summaryStyle': 'Neutral', 'summaryLength': 'Medium', 'includedFrames': 'Keyframes', 'createTime': '2025-01-03T18:18:56.64', 'lastUpdateTime': '2025-01-03T18:19:32.0366667', 'failureMessage': None, 'progress': 100}, {'deploymentName': 'gpt-4', 'disclaimer': None, 'id': '9bedd3df-c67b-4967-a03c-dc7dbafb9cc7', 'accountId': '90ebb508-87a1-4401-9d80-2a092d56321c', 'videoId': 'cn6b1e751z', 'state': 'Processed', 'modelName': 'gpt-4', 'summaryStyle': 'Formal', 'summaryLength': 'Medium', 'includedFrames': 'Keyframes', 'createTime': '2025-01-03T18:17:34.4633333', 'lastUpdateTime': '2025-01-03T18:17:45.1366667', 'failureMessage': None, 'progress': 100}, {'deploymentName': 'gpt-4', 'disclaimer': None, 'id': '62444acd-1897-4623-9270-daa8e5185a2a', 'accountId': '90ebb508-87a1-4401-9d80-2a092d56321c', 'videoId': 'cn6b1e751z', 'state': 'Processed', 'modelName': 'gpt-4', 'summaryStyle': 'Formal', 'summaryLength': 'Long', 'includedFrames': 'Keyframes', 'createTime': '2025-01-02T16:26:46.52', 'lastUpdateTime': '2025-01-02T16:27:17.1133333', 'failureMessage': None, 'progress': 100}, {'deploymentName': 'gpt-4', 'disclaimer': None, 'id': '221cff1d-74c5-4aa1-91ba-4d5eae478eed', 'accountId': '90ebb508-87a1-4401-9d80-2a092d56321c', 'videoId': 'cn6b1e751z', 'state': 'Processed', 'modelName': 'gpt-4', 'summaryStyle': 'Neutral', 'summaryLength': 'Short', 'includedFrames': 'Keyframes', 'createTime': '2025-01-02T16:18:18.9966667', 'lastUpdateTime': '2025-01-02T16:19:12.3866667', 'failureMessage': None, 'progress': 100}, {'deploymentName': 'gpt-4', 'disclaimer': None, 'id': '5ae05be8-6cd4-4c91-9221-5b86e7c458eb', 'accountId': '90ebb508-87a1-4401-9d80-2a092d56321c', 'videoId': 'cn6b1e751z', 'state': 'Processed', 'modelName': 'gpt-4', 'summaryStyle': 'Casual', 'summaryLength': 'Short', 'includedFrames': 'Keyframes', 'createTime': '2025-01-02T15:40:31.83', 'lastUpdateTime': '2025-01-02T15:41:26.14', 'failureMessage': None, 'progress': 100}, {'deploymentName': 'gpt-4', 'disclaimer': None, 'id': '9dbdd5ac-ba62-4b51-937c-ca34576148db', 'accountId': '90ebb508-87a1-4401-9d80-2a092d56321c', 'videoId': 'cn6b1e751z', 'state': 'Processed', 'modelName': 'gpt-4', 'summaryStyle': 'Formal', 'summaryLength': 'Short', 'includedFrames': 'Keyframes', 'createTime': '2025-01-02T15:37:02.4', 'lastUpdateTime': '2025-01-02T15:37:57.5866667', 'failureMessage': None, 'progress': 100}, {'deploymentName': 'gpt-4', 'disclaimer': None, 'id': 'ae70b860-ce4c-499b-af02-76d0e52418c5', 'accountId': '90ebb508-87a1-4401-9d80-2a092d56321c', 'videoId': 'cn6b1e751z', 'state': 'Processed', 'modelName': 'gpt-4', 'summaryStyle': 'Casual', 'summaryLength': 'Short', 'includedFrames': 'Keyframes', 'createTime': '2025-01-02T15:26:42.5766667', 'lastUpdateTime': '2025-01-02T15:27:25.8233333', 'failureMessage': None, 'progress': 100}, {'deploymentName': 'gpt-4', 'disclaimer': None, 'id': 'f890d915-9f2c-4dcd-9e70-8ffda2b5302c', 'accountId': '90ebb508-87a1-4401-9d80-2a092d56321c', 'videoId': 'cn6b1e751z', 'state': 'Processed', 'modelName': 'gpt-4', 'summaryStyle': 'Neutral', 'summaryLength': 'Short', 'includedFrames': 'Keyframes', 'createTime': '2025-01-02T15:22:42.5233333', 'lastUpdateTime': '2025-01-02T15:22:58.7766667', 'failureMessage': None, 'progress': 100}, {'deploymentName': 'gpt-4', 'disclaimer': None, 'id': '27b1ae17-ff6e-4f54-8ac7-ee1d12c68081', 'accountId': '90ebb508-87a1-4401-9d80-2a092d56321c', 'videoId': 'cn6b1e751z', 'state': 'Processed', 'modelName': 'gpt-4', 'summaryStyle': 'Casual', 'summaryLength': 'Short', 'includedFrames': 'Keyframes', 'createTime': '2025-01-02T15:21:11.5966667', 'lastUpdateTime': '2025-01-02T15:21:27.2133333', 'failureMessage': None, 'progress': 100}, {'deploymentName': 'gpt-4', 'disclaimer': None, 'id': '5234651e-1b9f-49f9-a712-861e79de8792', 'accountId': '90ebb508-87a1-4401-9d80-2a092d56321c', 'videoId': 'cn6b1e751z', 'state': 'Processed', 'modelName': 'gpt-4', 'summaryStyle': 'Casual', 'summaryLength': 'Short', 'includedFrames': 'Keyframes', 'createTime': '2025-01-02T15:18:30.9833333', 'lastUpdateTime': '2025-01-02T15:19:25.52', 'failureMessage': None, 'progress': 100}, {'deploymentName': 'gpt-4', 'disclaimer': None, 'id': '4d3f4c9d-52a0-407d-bab4-9f1e5bf8da44', 'accountId': '90ebb508-87a1-4401-9d80-2a092d56321c', 'videoId': 'cn6b1e751z', 'state': 'Processed', 'modelName': 'gpt-4', 'summaryStyle': 'Neutral', 'summaryLength': 'Long', 'includedFrames': 'Keyframes', 'createTime': '2024-11-18T16:44:45.3233333', 'lastUpdateTime': '2024-11-18T16:45:21.35', 'failureMessage': None, 'progress': 100}, {'deploymentName': 'gpt-35-turbo', 'disclaimer': None, 'id': '927c1ccb-e8d1-4ec3-af21-d1d0f46ee2b8', 'accountId': '90ebb508-87a1-4401-9d80-2a092d56321c', 'videoId': 'cn6b1e751z', 'state': 'Processed', 'modelName': 'gpt-35-turbo', 'summaryStyle': 'Neutral', 'summaryLength': 'Medium', 'includedFrames': 'None', 'createTime': '2024-11-18T16:38:21.8566667', 'lastUpdateTime': '2024-11-18T16:39:23.0033333', 'failureMessage': None, 'progress': 100}], 'done': True}\n",
      "{'done': True,\n",
      " 'items': [{'accountId': '90ebb508-87a1-4401-9d80-2a092d56321c',\n",
      "            'createTime': '2025-01-15T21:49:35.61',\n",
      "            'deploymentName': 'gpt-4',\n",
      "            'disclaimer': None,\n",
      "            'failureMessage': None,\n",
      "            'id': 'd4b3cc4a-e58c-4dc2-8c54-417291fb8043',\n",
      "            'includedFrames': 'Keyframes',\n",
      "            'lastUpdateTime': '2025-01-15T21:51:05.28',\n",
      "            'modelName': 'gpt-4',\n",
      "            'progress': 100,\n",
      "            'state': 'Processed',\n",
      "            'summaryLength': 'Long',\n",
      "            'summaryStyle': 'Formal',\n",
      "            'videoId': 'cn6b1e751z'},\n",
      "           {'accountId': '90ebb508-87a1-4401-9d80-2a092d56321c',\n",
      "            'createTime': '2025-01-15T21:19:20.95',\n",
      "            'deploymentName': 'gpt-4',\n",
      "            'disclaimer': None,\n",
      "            'failureMessage': None,\n",
      "            'id': '23468b0a-3b94-4e65-9412-80f97d1e09a5',\n",
      "            'includedFrames': 'Keyframes',\n",
      "            'lastUpdateTime': '2025-01-15T21:20:16.33',\n",
      "            'modelName': 'gpt-4',\n",
      "            'progress': 100,\n",
      "            'state': 'Processed',\n",
      "            'summaryLength': 'Long',\n",
      "            'summaryStyle': 'Casual',\n",
      "            'videoId': 'cn6b1e751z'},\n",
      "           {'accountId': '90ebb508-87a1-4401-9d80-2a092d56321c',\n",
      "            'createTime': '2025-01-10T13:24:37.76',\n",
      "            'deploymentName': 'gpt-4',\n",
      "            'disclaimer': None,\n",
      "            'failureMessage': None,\n",
      "            'id': '64ba0075-45bd-4fa2-ac94-dd69985b99b9',\n",
      "            'includedFrames': 'Keyframes',\n",
      "            'lastUpdateTime': '2025-01-10T13:25:43.11',\n",
      "            'modelName': 'gpt-4',\n",
      "            'progress': 100,\n",
      "            'state': 'Processed',\n",
      "            'summaryLength': 'Medium',\n",
      "            'summaryStyle': 'Formal',\n",
      "            'videoId': 'cn6b1e751z'},\n",
      "           {'accountId': '90ebb508-87a1-4401-9d80-2a092d56321c',\n",
      "            'createTime': '2025-01-06T17:08:57.9333333',\n",
      "            'deploymentName': 'gpt-4',\n",
      "            'disclaimer': None,\n",
      "            'failureMessage': None,\n",
      "            'id': 'fb6ab5f9-e1aa-4326-9590-5763c01fc3db',\n",
      "            'includedFrames': 'Keyframes',\n",
      "            'lastUpdateTime': '2025-01-06T17:10:09.9733333',\n",
      "            'modelName': 'gpt-4',\n",
      "            'progress': 100,\n",
      "            'state': 'Processed',\n",
      "            'summaryLength': 'Long',\n",
      "            'summaryStyle': 'Formal',\n",
      "            'videoId': 'cn6b1e751z'},\n",
      "           {'accountId': '90ebb508-87a1-4401-9d80-2a092d56321c',\n",
      "            'createTime': '2025-01-03T18:18:56.64',\n",
      "            'deploymentName': 'gpt-4',\n",
      "            'disclaimer': None,\n",
      "            'failureMessage': None,\n",
      "            'id': '0c2601ba-0b69-414d-a767-f45173b0b569',\n",
      "            'includedFrames': 'Keyframes',\n",
      "            'lastUpdateTime': '2025-01-03T18:19:32.0366667',\n",
      "            'modelName': 'gpt-4',\n",
      "            'progress': 100,\n",
      "            'state': 'Processed',\n",
      "            'summaryLength': 'Medium',\n",
      "            'summaryStyle': 'Neutral',\n",
      "            'videoId': 'cn6b1e751z'},\n",
      "           {'accountId': '90ebb508-87a1-4401-9d80-2a092d56321c',\n",
      "            'createTime': '2025-01-03T18:17:34.4633333',\n",
      "            'deploymentName': 'gpt-4',\n",
      "            'disclaimer': None,\n",
      "            'failureMessage': None,\n",
      "            'id': '9bedd3df-c67b-4967-a03c-dc7dbafb9cc7',\n",
      "            'includedFrames': 'Keyframes',\n",
      "            'lastUpdateTime': '2025-01-03T18:17:45.1366667',\n",
      "            'modelName': 'gpt-4',\n",
      "            'progress': 100,\n",
      "            'state': 'Processed',\n",
      "            'summaryLength': 'Medium',\n",
      "            'summaryStyle': 'Formal',\n",
      "            'videoId': 'cn6b1e751z'},\n",
      "           {'accountId': '90ebb508-87a1-4401-9d80-2a092d56321c',\n",
      "            'createTime': '2025-01-02T16:26:46.52',\n",
      "            'deploymentName': 'gpt-4',\n",
      "            'disclaimer': None,\n",
      "            'failureMessage': None,\n",
      "            'id': '62444acd-1897-4623-9270-daa8e5185a2a',\n",
      "            'includedFrames': 'Keyframes',\n",
      "            'lastUpdateTime': '2025-01-02T16:27:17.1133333',\n",
      "            'modelName': 'gpt-4',\n",
      "            'progress': 100,\n",
      "            'state': 'Processed',\n",
      "            'summaryLength': 'Long',\n",
      "            'summaryStyle': 'Formal',\n",
      "            'videoId': 'cn6b1e751z'},\n",
      "           {'accountId': '90ebb508-87a1-4401-9d80-2a092d56321c',\n",
      "            'createTime': '2025-01-02T16:18:18.9966667',\n",
      "            'deploymentName': 'gpt-4',\n",
      "            'disclaimer': None,\n",
      "            'failureMessage': None,\n",
      "            'id': '221cff1d-74c5-4aa1-91ba-4d5eae478eed',\n",
      "            'includedFrames': 'Keyframes',\n",
      "            'lastUpdateTime': '2025-01-02T16:19:12.3866667',\n",
      "            'modelName': 'gpt-4',\n",
      "            'progress': 100,\n",
      "            'state': 'Processed',\n",
      "            'summaryLength': 'Short',\n",
      "            'summaryStyle': 'Neutral',\n",
      "            'videoId': 'cn6b1e751z'},\n",
      "           {'accountId': '90ebb508-87a1-4401-9d80-2a092d56321c',\n",
      "            'createTime': '2025-01-02T15:40:31.83',\n",
      "            'deploymentName': 'gpt-4',\n",
      "            'disclaimer': None,\n",
      "            'failureMessage': None,\n",
      "            'id': '5ae05be8-6cd4-4c91-9221-5b86e7c458eb',\n",
      "            'includedFrames': 'Keyframes',\n",
      "            'lastUpdateTime': '2025-01-02T15:41:26.14',\n",
      "            'modelName': 'gpt-4',\n",
      "            'progress': 100,\n",
      "            'state': 'Processed',\n",
      "            'summaryLength': 'Short',\n",
      "            'summaryStyle': 'Casual',\n",
      "            'videoId': 'cn6b1e751z'},\n",
      "           {'accountId': '90ebb508-87a1-4401-9d80-2a092d56321c',\n",
      "            'createTime': '2025-01-02T15:37:02.4',\n",
      "            'deploymentName': 'gpt-4',\n",
      "            'disclaimer': None,\n",
      "            'failureMessage': None,\n",
      "            'id': '9dbdd5ac-ba62-4b51-937c-ca34576148db',\n",
      "            'includedFrames': 'Keyframes',\n",
      "            'lastUpdateTime': '2025-01-02T15:37:57.5866667',\n",
      "            'modelName': 'gpt-4',\n",
      "            'progress': 100,\n",
      "            'state': 'Processed',\n",
      "            'summaryLength': 'Short',\n",
      "            'summaryStyle': 'Formal',\n",
      "            'videoId': 'cn6b1e751z'},\n",
      "           {'accountId': '90ebb508-87a1-4401-9d80-2a092d56321c',\n",
      "            'createTime': '2025-01-02T15:26:42.5766667',\n",
      "            'deploymentName': 'gpt-4',\n",
      "            'disclaimer': None,\n",
      "            'failureMessage': None,\n",
      "            'id': 'ae70b860-ce4c-499b-af02-76d0e52418c5',\n",
      "            'includedFrames': 'Keyframes',\n",
      "            'lastUpdateTime': '2025-01-02T15:27:25.8233333',\n",
      "            'modelName': 'gpt-4',\n",
      "            'progress': 100,\n",
      "            'state': 'Processed',\n",
      "            'summaryLength': 'Short',\n",
      "            'summaryStyle': 'Casual',\n",
      "            'videoId': 'cn6b1e751z'},\n",
      "           {'accountId': '90ebb508-87a1-4401-9d80-2a092d56321c',\n",
      "            'createTime': '2025-01-02T15:22:42.5233333',\n",
      "            'deploymentName': 'gpt-4',\n",
      "            'disclaimer': None,\n",
      "            'failureMessage': None,\n",
      "            'id': 'f890d915-9f2c-4dcd-9e70-8ffda2b5302c',\n",
      "            'includedFrames': 'Keyframes',\n",
      "            'lastUpdateTime': '2025-01-02T15:22:58.7766667',\n",
      "            'modelName': 'gpt-4',\n",
      "            'progress': 100,\n",
      "            'state': 'Processed',\n",
      "            'summaryLength': 'Short',\n",
      "            'summaryStyle': 'Neutral',\n",
      "            'videoId': 'cn6b1e751z'},\n",
      "           {'accountId': '90ebb508-87a1-4401-9d80-2a092d56321c',\n",
      "            'createTime': '2025-01-02T15:21:11.5966667',\n",
      "            'deploymentName': 'gpt-4',\n",
      "            'disclaimer': None,\n",
      "            'failureMessage': None,\n",
      "            'id': '27b1ae17-ff6e-4f54-8ac7-ee1d12c68081',\n",
      "            'includedFrames': 'Keyframes',\n",
      "            'lastUpdateTime': '2025-01-02T15:21:27.2133333',\n",
      "            'modelName': 'gpt-4',\n",
      "            'progress': 100,\n",
      "            'state': 'Processed',\n",
      "            'summaryLength': 'Short',\n",
      "            'summaryStyle': 'Casual',\n",
      "            'videoId': 'cn6b1e751z'},\n",
      "           {'accountId': '90ebb508-87a1-4401-9d80-2a092d56321c',\n",
      "            'createTime': '2025-01-02T15:18:30.9833333',\n",
      "            'deploymentName': 'gpt-4',\n",
      "            'disclaimer': None,\n",
      "            'failureMessage': None,\n",
      "            'id': '5234651e-1b9f-49f9-a712-861e79de8792',\n",
      "            'includedFrames': 'Keyframes',\n",
      "            'lastUpdateTime': '2025-01-02T15:19:25.52',\n",
      "            'modelName': 'gpt-4',\n",
      "            'progress': 100,\n",
      "            'state': 'Processed',\n",
      "            'summaryLength': 'Short',\n",
      "            'summaryStyle': 'Casual',\n",
      "            'videoId': 'cn6b1e751z'},\n",
      "           {'accountId': '90ebb508-87a1-4401-9d80-2a092d56321c',\n",
      "            'createTime': '2024-11-18T16:44:45.3233333',\n",
      "            'deploymentName': 'gpt-4',\n",
      "            'disclaimer': None,\n",
      "            'failureMessage': None,\n",
      "            'id': '4d3f4c9d-52a0-407d-bab4-9f1e5bf8da44',\n",
      "            'includedFrames': 'Keyframes',\n",
      "            'lastUpdateTime': '2024-11-18T16:45:21.35',\n",
      "            'modelName': 'gpt-4',\n",
      "            'progress': 100,\n",
      "            'state': 'Processed',\n",
      "            'summaryLength': 'Long',\n",
      "            'summaryStyle': 'Neutral',\n",
      "            'videoId': 'cn6b1e751z'},\n",
      "           {'accountId': '90ebb508-87a1-4401-9d80-2a092d56321c',\n",
      "            'createTime': '2024-11-18T16:38:21.8566667',\n",
      "            'deploymentName': 'gpt-35-turbo',\n",
      "            'disclaimer': None,\n",
      "            'failureMessage': None,\n",
      "            'id': '927c1ccb-e8d1-4ec3-af21-d1d0f46ee2b8',\n",
      "            'includedFrames': 'None',\n",
      "            'lastUpdateTime': '2024-11-18T16:39:23.0033333',\n",
      "            'modelName': 'gpt-35-turbo',\n",
      "            'progress': 100,\n",
      "            'state': 'Processed',\n",
      "            'summaryLength': 'Medium',\n",
      "            'summaryStyle': 'Neutral',\n",
      "            'videoId': 'cn6b1e751z'}],\n",
      " 'pageNumber': 0,\n",
      " 'size': 16}\n"
     ]
    }
   ],
   "source": [
    "prompt_content = client.get_video_summmaries_list(file_video_id)\n",
    "pprint(prompt_content)"
   ]
  },
  {
   "cell_type": "markdown",
   "metadata": {},
   "source": [
    "### <span style=\"color:yellow\"> NP Sample 3  Get Video Summary (Preview) </span>"
   ]
  },
  {
   "cell_type": "code",
   "execution_count": 9,
   "metadata": {},
   "outputs": [
    {
     "name": "stdout",
     "output_type": "stream",
     "text": [
      "Getting the player summaries URL for video cn6b1e751z\n",
      "Here is video summary result: \n",
      "{'summary': 'The video titled \"DistractedTruckDriver2\" captures a critical road safety issue involving a truck driver using a mobile phone while operating the vehicle on a busy highway. The footage, timestamped on October 24, 2017, provides a dual perspective with one camera positioned inside the truck\\'s cabin and another showing the road ahead from the truck\\'s point of view.\\n\\nIn the cabin, the driver is seen holding and interacting with a mobile phone during the journey. This behavior is captured in multiple frames, indicating that the distraction was not momentary but rather prolonged. The driver\\'s attention is divided between the road and the phone, posing a significant risk to road safety.\\n\\nThe external camera footage shows the truck navigating through traffic on a multi-lane highway. The weather appears overcast, and the road is busy with various vehicles, including cars and other trucks. This external view underscores the potential dangers of distracted driving in such conditions, where high levels of concentration and quick reaction times are crucial.\\n\\nThe video serves as a stark reminder of the hazards associated with using mobile phones while driving, particularly for commercial vehicle operators responsible for larger, more cumbersome vehicles. It highlights the need for strict adherence to road safety regulations that prohibit mobile phone use while driving, aiming to protect the driver and other road users from preventable accidents and incidents.', 'disclaimer': 'The content was AI-generated and may contain mistakes. Use your discretion when using this summary.', 'sensitiveContentPercent': 0.0, 'deploymentName': 'gpt-4', 'id': 'fb6ab5f9-e1aa-4326-9590-5763c01fc3db', 'accountId': '90ebb508-87a1-4401-9d80-2a092d56321c', 'videoId': 'cn6b1e751z', 'state': 'Processed', 'modelName': 'gpt-4', 'summaryStyle': 'Formal', 'summaryLength': 'Long', 'includedFrames': 'Keyframes', 'createTime': '2025-01-06T17:08:57.9333333', 'lastUpdateTime': '2025-01-06T17:10:09.9733333', 'failureMessage': None, 'progress': 100}\n",
      "{'accountId': '90ebb508-87a1-4401-9d80-2a092d56321c',\n",
      " 'createTime': '2025-01-06T17:08:57.9333333',\n",
      " 'deploymentName': 'gpt-4',\n",
      " 'disclaimer': 'The content was AI-generated and may contain mistakes. Use '\n",
      "               'your discretion when using this summary.',\n",
      " 'failureMessage': None,\n",
      " 'id': 'fb6ab5f9-e1aa-4326-9590-5763c01fc3db',\n",
      " 'includedFrames': 'Keyframes',\n",
      " 'lastUpdateTime': '2025-01-06T17:10:09.9733333',\n",
      " 'modelName': 'gpt-4',\n",
      " 'progress': 100,\n",
      " 'sensitiveContentPercent': 0.0,\n",
      " 'state': 'Processed',\n",
      " 'summary': 'The video titled \"DistractedTruckDriver2\" captures a critical '\n",
      "            'road safety issue involving a truck driver using a mobile phone '\n",
      "            'while operating the vehicle on a busy highway. The footage, '\n",
      "            'timestamped on October 24, 2017, provides a dual perspective with '\n",
      "            \"one camera positioned inside the truck's cabin and another \"\n",
      "            \"showing the road ahead from the truck's point of view.\\n\"\n",
      "            '\\n'\n",
      "            'In the cabin, the driver is seen holding and interacting with a '\n",
      "            'mobile phone during the journey. This behavior is captured in '\n",
      "            'multiple frames, indicating that the distraction was not '\n",
      "            \"momentary but rather prolonged. The driver's attention is divided \"\n",
      "            'between the road and the phone, posing a significant risk to road '\n",
      "            'safety.\\n'\n",
      "            '\\n'\n",
      "            'The external camera footage shows the truck navigating through '\n",
      "            'traffic on a multi-lane highway. The weather appears overcast, '\n",
      "            'and the road is busy with various vehicles, including cars and '\n",
      "            'other trucks. This external view underscores the potential '\n",
      "            'dangers of distracted driving in such conditions, where high '\n",
      "            'levels of concentration and quick reaction times are crucial.\\n'\n",
      "            '\\n'\n",
      "            'The video serves as a stark reminder of the hazards associated '\n",
      "            'with using mobile phones while driving, particularly for '\n",
      "            'commercial vehicle operators responsible for larger, more '\n",
      "            'cumbersome vehicles. It highlights the need for strict adherence '\n",
      "            'to road safety regulations that prohibit mobile phone use while '\n",
      "            'driving, aiming to protect the driver and other road users from '\n",
      "            'preventable accidents and incidents.',\n",
      " 'summaryLength': 'Long',\n",
      " 'summaryStyle': 'Formal',\n",
      " 'videoId': 'cn6b1e751z'}\n"
     ]
    }
   ],
   "source": [
    "summary_id = 'fb6ab5f9-e1aa-4326-9590-5763c01fc3db'\n",
    "\n",
    "#'4d3f4c9d-52a0-407d-bab4-9f1e5bf8da44'\n",
    "prompt_content = client.get_video_summary(file_video_id, summary_id)\n",
    "pprint(prompt_content)"
   ]
  }
 ],
 "metadata": {
  "kernelspec": {
   "display_name": ".venv",
   "language": "python",
   "name": "python3"
  },
  "language_info": {
   "codemirror_mode": {
    "name": "ipython",
    "version": 3
   },
   "file_extension": ".py",
   "mimetype": "text/x-python",
   "name": "python",
   "nbconvert_exporter": "python",
   "pygments_lexer": "ipython3",
   "version": "3.11.9"
  },
  "polyglot_notebook": {
   "kernelInfo": {
    "defaultKernelName": "csharp",
    "items": [
     {
      "aliases": [],
      "name": "csharp"
     }
    ]
   }
  }
 },
 "nbformat": 4,
 "nbformat_minor": 2
}
